{
 "cells": [
  {
   "cell_type": "code",
   "execution_count": null,
   "id": "9d7e2c2c-6fcc-4f47-a114-851d2178ae77",
   "metadata": {},
   "outputs": [],
   "source": [
    "#!pip install xgboost"
   ]
  },
  {
   "cell_type": "code",
   "execution_count": null,
   "id": "90d34110-ca89-471f-bbf1-10d28b4bf0f1",
   "metadata": {},
   "outputs": [],
   "source": [
    "#import xgboost"
   ]
  },
  {
   "cell_type": "code",
   "execution_count": null,
   "id": "cd0dd2f6-e9d0-4d90-bd15-e1149b8d1a71",
   "metadata": {},
   "outputs": [],
   "source": [
    "import pandas as pd"
   ]
  },
  {
   "cell_type": "code",
   "execution_count": null,
   "id": "e93ace60-8a1d-445f-9d10-51ba67444055",
   "metadata": {},
   "outputs": [],
   "source": [
    "dataset = pd.read_csv(\"50_Startups.csv\")"
   ]
  },
  {
   "cell_type": "code",
   "execution_count": null,
   "id": "f01f5d09-9866-4209-a86b-60d8fd3471ed",
   "metadata": {},
   "outputs": [],
   "source": [
    "dataset"
   ]
  },
  {
   "cell_type": "code",
   "execution_count": null,
   "id": "a75eb6d1-ef12-4421-a26f-34966b84208c",
   "metadata": {},
   "outputs": [],
   "source": [
    "dataset = pd.get_dummies(dataset,drop_first=True)"
   ]
  },
  {
   "cell_type": "code",
   "execution_count": null,
   "id": "01ca96d9-2a8e-446a-b23c-84d883e8b4c5",
   "metadata": {},
   "outputs": [],
   "source": [
    "dataset"
   ]
  },
  {
   "cell_type": "code",
   "execution_count": null,
   "id": "1533c55b-4313-4f23-8791-d8680f74b101",
   "metadata": {},
   "outputs": [],
   "source": [
    "dataset.columns"
   ]
  },
  {
   "cell_type": "code",
   "execution_count": null,
   "id": "8ad7e92e-0973-44ec-b5b7-a1f0e4c2b8fe",
   "metadata": {},
   "outputs": [],
   "source": [
    "independent=dataset[['R&D Spend', 'Administration', 'Marketing Spend','State_Florida', 'State_New York' ]]"
   ]
  },
  {
   "cell_type": "code",
   "execution_count": null,
   "id": "0aab3475-a8dd-47c3-b7ac-4243f5e1fa55",
   "metadata": {},
   "outputs": [],
   "source": [
    "independent"
   ]
  },
  {
   "cell_type": "code",
   "execution_count": null,
   "id": "450d88c0-901e-4d1f-af2d-f47223bb8898",
   "metadata": {},
   "outputs": [],
   "source": [
    "dependent=dataset[['Profit']]"
   ]
  },
  {
   "cell_type": "code",
   "execution_count": null,
   "id": "d38b8184-e50f-4dbe-9d88-d0d1398daf77",
   "metadata": {},
   "outputs": [],
   "source": [
    "dependent"
   ]
  },
  {
   "cell_type": "code",
   "execution_count": null,
   "id": "8b73decd-4911-4514-a276-d7002f86ec02",
   "metadata": {},
   "outputs": [],
   "source": [
    "from sklearn.model_selection import train_test_split   # import the library which is used for regression calculations\n",
    "# Splitting and savinvg the training input and test values\n",
    "# X_train - input train data\n",
    "# X_test - input test data\n",
    "# Y_train - output train data\n",
    "# Y_test - output test data\n",
    "\n",
    "X_train,X_test,Y_train,Y_test=train_test_split(independent,dependent,test_size=0.30,random_state=0)"
   ]
  },
  {
   "cell_type": "code",
   "execution_count": null,
   "id": "c5646ded-0b63-4e09-ab42-19642fd41d1a",
   "metadata": {},
   "outputs": [],
   "source": [
    "from sklearn.ensemble import AdaBoostRegressor\n",
    "from sklearn.datasets import make_regression\n",
    "from sklearn.tree import DecisionTreeRegressor\n",
    "\n",
    "#X, y = make_regression(n_features=4, n_informative=2, random_state=0, shuffle=False)\n",
    "regr = AdaBoostRegressor(n_estimators=100, random_state=0,)\n",
    "regr.fit(X_train, Y_train)\n",
    "\n"
   ]
  },
  {
   "cell_type": "code",
   "execution_count": null,
   "id": "be7d35f0-1f5c-436c-9464-54c480c44c16",
   "metadata": {},
   "outputs": [],
   "source": [
    "# predictions\n",
    "\n",
    "Y_pred = regr.predict(X_test)\n",
    "Y_pred"
   ]
  },
  {
   "cell_type": "code",
   "execution_count": null,
   "id": "b946a5bb-b768-4c77-9c9c-ce374c1f1eac",
   "metadata": {},
   "outputs": [],
   "source": [
    "# Mean square calculation\n",
    "from sklearn.metrics import r2_score\n",
    "# passing the test data and the predicted data\n",
    "r_score=r2_score(Y_test, Y_pred)\n",
    "r_score"
   ]
  },
  {
   "cell_type": "code",
   "execution_count": null,
   "id": "3bd0ef84-6ef5-43bb-bac1-45a5e2497e25",
   "metadata": {},
   "outputs": [],
   "source": []
  }
 ],
 "metadata": {
  "kernelspec": {
   "display_name": "Python [conda env:base] *",
   "language": "python",
   "name": "conda-base-py"
  },
  "language_info": {
   "codemirror_mode": {
    "name": "ipython",
    "version": 3
   },
   "file_extension": ".py",
   "mimetype": "text/x-python",
   "name": "python",
   "nbconvert_exporter": "python",
   "pygments_lexer": "ipython3",
   "version": "3.12.7"
  }
 },
 "nbformat": 4,
 "nbformat_minor": 5
}
