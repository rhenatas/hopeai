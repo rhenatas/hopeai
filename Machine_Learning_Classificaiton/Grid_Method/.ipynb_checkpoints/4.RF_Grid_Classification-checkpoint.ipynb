{
 "cells": [
  {
   "cell_type": "code",
   "execution_count": null,
   "id": "9a05905d",
   "metadata": {},
   "outputs": [],
   "source": [
    "# Random Forest Grid classification method\n",
    "#importing the Libraies\n",
    "import numpy as np\n",
    "import matplotlib.pyplot as plt\n",
    "import pandas as pd"
   ]
  },
  {
   "cell_type": "code",
   "execution_count": null,
   "id": "76c3f5df",
   "metadata": {},
   "outputs": [],
   "source": [
    "print(np.__version__)"
   ]
  },
  {
   "cell_type": "code",
   "execution_count": null,
   "id": "834b3776",
   "metadata": {},
   "outputs": [],
   "source": [
    "# Reading the Dataset\n",
    "dataset = pd.read_csv('Social_Network_Ads.csv')"
   ]
  },
  {
   "cell_type": "code",
   "execution_count": null,
   "id": "1497398d",
   "metadata": {},
   "outputs": [],
   "source": [
    "dataset.head(133)"
   ]
  },
  {
   "cell_type": "code",
   "execution_count": null,
   "id": "7f3b03c6",
   "metadata": {},
   "outputs": [],
   "source": [
    "dataset"
   ]
  },
  {
   "cell_type": "code",
   "execution_count": null,
   "id": "6ffb995e",
   "metadata": {},
   "outputs": [],
   "source": [
    "dataset=pd.get_dummies(dataset,dtype=int, drop_first=True)"
   ]
  },
  {
   "cell_type": "code",
   "execution_count": null,
   "id": "9e67641d",
   "metadata": {},
   "outputs": [],
   "source": [
    "dataset"
   ]
  },
  {
   "cell_type": "code",
   "execution_count": null,
   "id": "1fd3a9c2",
   "metadata": {},
   "outputs": [],
   "source": [
    "indep=dataset[['Age', 'EstimatedSalary','Gender_Male']]\n",
    "dep=dataset['Purchased']"
   ]
  },
  {
   "cell_type": "code",
   "execution_count": null,
   "id": "e34f46eb",
   "metadata": {},
   "outputs": [],
   "source": [
    "#split into training set and test\n",
    "# In regression, data splitting is not required. Whereas in Classification it is required\n",
    "from sklearn.model_selection import train_test_split\n",
    "X_train, X_test, y_train, y_test = train_test_split(indep, dep, test_size = 1/3, random_state = 0)\n"
   ]
  },
  {
   "cell_type": "code",
   "execution_count": null,
   "id": "eb8a326c",
   "metadata": {},
   "outputs": [],
   "source": [
    "# If the predicted values is between the defined range, then standard sccalar is required\n",
    "from sklearn.preprocessing import StandardScaler\n",
    "sc = StandardScaler()\n",
    "X_train_= sc.fit_transform(X_train)\n",
    "X_test_= sc.transform(X_test)"
   ]
  },
  {
   "cell_type": "code",
   "execution_count": null,
   "id": "37ed9127",
   "metadata": {},
   "outputs": [],
   "source": [
    "# Import the Random Forest classifier model\n",
    "from sklearn.ensemble import RandomForestClassifier"
   ]
  },
  {
   "cell_type": "code",
   "execution_count": null,
   "id": "79b126cb",
   "metadata": {},
   "outputs": [],
   "source": [
    "#https://scikit-learn.org/stable/modules/model_evaluation.html#scoring-parameter"
   ]
  },
  {
   "cell_type": "code",
   "execution_count": null,
   "id": "3cdf758f",
   "metadata": {},
   "outputs": [],
   "source": [
    "# Loading the GridsearchCV \n",
    "from sklearn.model_selection import GridSearchCV\n",
    "\n",
    "# configuring the parameters specific to this model\n",
    "param_grid = {'criterion':['gini','entropy'],\n",
    "              'max_features': ['auto','sqrt','log2'],\n",
    "              'n_estimators':[10,100]} \n",
    "\n",
    "\n",
    "# Scoring is important in this step. This is equal to R_Square in the regression\n",
    "# This parameter is suitable for both imbalanced and balanced data\n",
    "#https://scikit-learn.org/stable/modules/model_evaluation.html#scoring-parameter\n",
    "# In place of f1_weighted, other parameters listed in the above page can be replaced and tested\n",
    "grid = GridSearchCV(RandomForestClassifier(), param_grid, refit = True, verbose = 3,n_jobs=-1,scoring='f1') \n",
    "   \n",
    "# fitting the model for grid search. Model gets created in this step\n",
    "grid.fit(X_train_, y_train) \n"
   ]
  },
  {
   "cell_type": "code",
   "execution_count": null,
   "id": "8503f524",
   "metadata": {},
   "outputs": [],
   "source": [
    "# print best parameter after tuning \n",
    "#print(grid.best_params_) \n",
    "re=grid.cv_results_\n",
    "#print(re)\n",
    "grid_predictions = grid.predict(X_test_) \n",
    "   \n",
    "# Importing the confusion matrix object\n",
    "from sklearn.metrics import confusion_matrix\n",
    "cm = confusion_matrix(y_test, grid_predictions)\n",
    "\n",
    "\n",
    "# print classification report \n",
    "from sklearn.metrics import classification_report\n",
    "clf_report = classification_report(y_test, grid_predictions)\n"
   ]
  },
  {
   "cell_type": "code",
   "execution_count": null,
   "id": "d346b4ce",
   "metadata": {},
   "outputs": [],
   "source": [
    "print(grid.best_params_)"
   ]
  },
  {
   "cell_type": "code",
   "execution_count": null,
   "id": "fab58575",
   "metadata": {},
   "outputs": [],
   "source": [
    "table=pd.DataFrame.from_dict(re)"
   ]
  },
  {
   "cell_type": "code",
   "execution_count": null,
   "id": "02160945",
   "metadata": {},
   "outputs": [],
   "source": [
    "table"
   ]
  },
  {
   "cell_type": "code",
   "execution_count": null,
   "id": "1fb80240",
   "metadata": {},
   "outputs": [],
   "source": [
    "\n",
    "from sklearn.metrics import f1_score\n",
    "f1_macro=f1_score(y_test,grid_predictions,average='weighted')\n",
    "print(\"The f1_macro value for best parameter {}:\".format(grid.best_params_),f1_macro)\n"
   ]
  },
  {
   "cell_type": "code",
   "execution_count": null,
   "id": "8b289295",
   "metadata": {},
   "outputs": [],
   "source": [
    "print(\"The confusion Matrix:\\n\",cm)"
   ]
  },
  {
   "cell_type": "code",
   "execution_count": null,
   "id": "11add096",
   "metadata": {},
   "outputs": [],
   "source": [
    "print(\"The report:\\n\",clf_report)"
   ]
  },
  {
   "cell_type": "code",
   "execution_count": null,
   "id": "fc2ad549",
   "metadata": {},
   "outputs": [],
   "source": [
    "table_pr=pd.DataFrame()"
   ]
  },
  {
   "cell_type": "code",
   "execution_count": null,
   "id": "3c47201a",
   "metadata": {},
   "outputs": [],
   "source": [
    "print(X_test)"
   ]
  },
  {
   "cell_type": "code",
   "execution_count": null,
   "id": "51890851",
   "metadata": {},
   "outputs": [],
   "source": [
    "table_pr['Age']=X_test[\"Age\"]\n",
    "table_pr['Gender_male']=X_test[\"Gender_Male\"]\n",
    "table_pr['Estimated_Salary']=X_test[\"EstimatedSalary\"]\n",
    "table_pr['Actual']=y_test\n",
    "table_pr['Predicted']=grid_predictions"
   ]
  },
  {
   "cell_type": "code",
   "execution_count": null,
   "id": "f52b254e",
   "metadata": {},
   "outputs": [],
   "source": [
    "table_pr.head(134)"
   ]
  },
  {
   "cell_type": "code",
   "execution_count": null,
   "id": "c9a537a3",
   "metadata": {},
   "outputs": [],
   "source": [
    "table_pr.to_csv(\"cm.csv\",index=False)"
   ]
  },
  {
   "cell_type": "code",
   "execution_count": null,
   "id": "c3270e08",
   "metadata": {},
   "outputs": [],
   "source": [
    "dataset['']\n",
    "dataset['Predicted']=grid_predictions"
   ]
  },
  {
   "cell_type": "code",
   "execution_count": null,
   "id": "21b57144",
   "metadata": {},
   "outputs": [],
   "source": [
    "age_input=float(input(\"Age:\"))\n",
    "salary_input=float(input(\"BMI:\"))\n",
    "sex_male_input=int(input(\"Sex Male 0 or 1:\"))"
   ]
  },
  {
   "cell_type": "code",
   "execution_count": null,
   "id": "029cbc7d",
   "metadata": {},
   "outputs": [],
   "source": [
    "Future_Prediction=grid.predict([[age_input,salary_input,sex_male_input]])# change the paramter,play with it.\n",
    "print(\"Future_Prediction={}\".format(Future_Prediction))"
   ]
  },
  {
   "cell_type": "code",
   "execution_count": null,
   "id": "cfa6c0f6",
   "metadata": {},
   "outputs": [],
   "source": []
  },
  {
   "cell_type": "code",
   "execution_count": null,
   "id": "a56c4571",
   "metadata": {},
   "outputs": [],
   "source": []
  },
  {
   "cell_type": "code",
   "execution_count": null,
   "id": "9dc8ea83",
   "metadata": {},
   "outputs": [],
   "source": []
  },
  {
   "cell_type": "code",
   "execution_count": null,
   "id": "158a514f",
   "metadata": {},
   "outputs": [],
   "source": []
  },
  {
   "cell_type": "code",
   "execution_count": null,
   "id": "f8f4f8db",
   "metadata": {},
   "outputs": [],
   "source": []
  },
  {
   "cell_type": "code",
   "execution_count": null,
   "id": "0ebc965a",
   "metadata": {},
   "outputs": [],
   "source": []
  }
 ],
 "metadata": {
  "kernelspec": {
   "display_name": "Python 3 (ipykernel)",
   "language": "python",
   "name": "python3"
  },
  "language_info": {
   "codemirror_mode": {
    "name": "ipython",
    "version": 3
   },
   "file_extension": ".py",
   "mimetype": "text/x-python",
   "name": "python",
   "nbconvert_exporter": "python",
   "pygments_lexer": "ipython3",
   "version": "3.13.2"
  }
 },
 "nbformat": 4,
 "nbformat_minor": 5
}
