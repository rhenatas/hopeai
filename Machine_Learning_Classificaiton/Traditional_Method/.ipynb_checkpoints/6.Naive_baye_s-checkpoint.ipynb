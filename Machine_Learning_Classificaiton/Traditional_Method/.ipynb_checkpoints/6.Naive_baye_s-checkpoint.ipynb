{
 "cells": [
  {
   "cell_type": "code",
   "execution_count": null,
   "id": "1a886f16",
   "metadata": {},
   "outputs": [],
   "source": [
    "# Naive Baye's Algorithm\n",
    "#importing the Libraies\n",
    "import numpy as np\n",
    "import matplotlib.pyplot as plt\n",
    "import pandas as pd"
   ]
  },
  {
   "cell_type": "code",
   "execution_count": null,
   "id": "534df9c5",
   "metadata": {},
   "outputs": [],
   "source": [
    "dataset=pd.read_csv(\"Social_Network_Ads.csv\")"
   ]
  },
  {
   "cell_type": "code",
   "execution_count": null,
   "id": "ad4e5aa1",
   "metadata": {},
   "outputs": [],
   "source": [
    "dataset"
   ]
  },
  {
   "cell_type": "code",
   "execution_count": null,
   "id": "63f4ce13",
   "metadata": {},
   "outputs": [],
   "source": [
    "dataset=pd.get_dummies(dataset,dtype=int,drop_first=True)"
   ]
  },
  {
   "cell_type": "code",
   "execution_count": null,
   "id": "b0ea3cb5",
   "metadata": {},
   "outputs": [],
   "source": [
    "dataset"
   ]
  },
  {
   "cell_type": "code",
   "execution_count": null,
   "id": "4bc36c71",
   "metadata": {},
   "outputs": [],
   "source": [
    "dataset=dataset.drop(\"User ID\",axis=1)"
   ]
  },
  {
   "cell_type": "code",
   "execution_count": null,
   "id": "e234d226",
   "metadata": {},
   "outputs": [],
   "source": [
    "dataset[\"Purchased\"].value_counts()"
   ]
  },
  {
   "cell_type": "code",
   "execution_count": null,
   "id": "2379773e",
   "metadata": {},
   "outputs": [],
   "source": [
    "indep=dataset[[\"Age\",\"EstimatedSalary\",\"Gender_Male\"]]\n",
    "dep=dataset[\"Purchased\"]"
   ]
  },
  {
   "cell_type": "code",
   "execution_count": null,
   "id": "3894cfc1",
   "metadata": {},
   "outputs": [],
   "source": [
    "indep.shape"
   ]
  },
  {
   "cell_type": "code",
   "execution_count": null,
   "id": "ac6c9ed6",
   "metadata": {},
   "outputs": [],
   "source": [
    "dep"
   ]
  },
  {
   "cell_type": "code",
   "execution_count": null,
   "id": "2c31e514",
   "metadata": {},
   "outputs": [],
   "source": [
    "#split into training set and test\n",
    "from sklearn.model_selection import train_test_split\n",
    "X_train, X_test, y_train, y_test = train_test_split(indep, dep, test_size = 1/3, random_state = 0)"
   ]
  },
  {
   "cell_type": "code",
   "execution_count": null,
   "id": "59eac431",
   "metadata": {},
   "outputs": [],
   "source": [
    "# Model creation starts from here\n",
    "# import the Multinomial NB algorithm\n",
    "\n",
    "from sklearn.naive_bayes import MultinomialNB\n",
    "classifier = MultinomialNB()\n",
    "classifier.fit(X_train, y_train)\n",
    "y_pred = classifier.predict(X_test)\n",
    "from sklearn.metrics import confusion_matrix\n",
    "cm = confusion_matrix(y_test, y_pred)\n",
    "from sklearn.metrics import classification_report\n",
    "clf_report = classification_report(y_test, y_pred)              \n",
    "print(clf_report)\n",
    "print(cm)"
   ]
  },
  {
   "cell_type": "code",
   "execution_count": null,
   "id": "bea8abe6",
   "metadata": {},
   "outputs": [],
   "source": [
    "# Model creation starts from here\n",
    "# import the Bernoulli NB algorithm\n",
    "\n",
    "from sklearn.naive_bayes import BernoulliNB\n",
    "classifier = BernoulliNB()\n",
    "classifier.fit(X_train, y_train)\n",
    "y_pred = classifier.predict(X_test)\n",
    "from sklearn.metrics import confusion_matrix\n",
    "cm = confusion_matrix(y_test, y_pred)\n",
    "from sklearn.metrics import classification_report\n",
    "clf_report = classification_report(y_test, y_pred)              \n",
    "print(clf_report)\n",
    "print(cm)"
   ]
  },
  {
   "cell_type": "code",
   "execution_count": null,
   "id": "444c8972",
   "metadata": {
    "scrolled": true
   },
   "outputs": [],
   "source": [
    "# Model creation starts from here\n",
    "# import the Categorical NB algorithm\n",
    "\n",
    "from sklearn.naive_bayes import CategoricalNB\n",
    "classifier =CategoricalNB()\n",
    "classifier.fit(X_train, y_train)\n",
    "y_pred = classifier.predict(X_test)\n",
    "from sklearn.metrics import confusion_matrix\n",
    "cm = confusion_matrix(y_test, y_pred)\n",
    "from sklearn.metrics import classification_report\n",
    "clf_report = classification_report(y_test, y_pred)              \n",
    "print(clf_report)\n",
    "print(cm)"
   ]
  },
  {
   "cell_type": "code",
   "execution_count": null,
   "id": "e0be320f",
   "metadata": {},
   "outputs": [],
   "source": [
    "# Model creation starts from here\n",
    "# import the Complement NB algorithm\n",
    "\n",
    "from sklearn.naive_bayes import ComplementNB\n",
    "classifier =ComplementNB()\n",
    "classifier.fit(X_train, y_train)\n",
    "y_pred = classifier.predict(X_test)\n",
    "from sklearn.metrics import confusion_matrix\n",
    "cm = confusion_matrix(y_test, y_pred)\n",
    "from sklearn.metrics import classification_report\n",
    "clf_report = classification_report(y_test, y_pred)              \n",
    "print(clf_report)\n",
    "print(cm)"
   ]
  },
  {
   "cell_type": "code",
   "execution_count": null,
   "id": "ad9dcc7c",
   "metadata": {},
   "outputs": [],
   "source": []
  },
  {
   "cell_type": "code",
   "execution_count": null,
   "id": "be14a410",
   "metadata": {},
   "outputs": [],
   "source": []
  }
 ],
 "metadata": {
  "kernelspec": {
   "display_name": "Python 3 (ipykernel)",
   "language": "python",
   "name": "python3"
  },
  "language_info": {
   "codemirror_mode": {
    "name": "ipython",
    "version": 3
   },
   "file_extension": ".py",
   "mimetype": "text/x-python",
   "name": "python",
   "nbconvert_exporter": "python",
   "pygments_lexer": "ipython3",
   "version": "3.13.2"
  }
 },
 "nbformat": 4,
 "nbformat_minor": 5
}
