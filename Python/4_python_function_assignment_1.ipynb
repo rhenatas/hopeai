{
 "cells": [
  {
   "cell_type": "code",
   "execution_count": 3,
   "id": "efd807fa-f834-4e3b-bcfd-fef6ab0c2581",
   "metadata": {},
   "outputs": [
    {
     "name": "stdout",
     "output_type": "stream",
     "text": [
      "Sub-fields in AI are:\n",
      "Machine Learning\n",
      "Neural Networks\n",
      "Vision\n",
      "Robotics\n",
      "Speech Processing\n",
      "Natural Language Processing\n"
     ]
    }
   ],
   "source": [
    "# Create a class and function, and list out the items in the list\n",
    "\n",
    "class SubfieldsInAI():\n",
    "    def Subfields():\n",
    "        sections = [\"Machine Learning\", \"Neural Networks\", \"Vision\", \"Robotics\", \"Speech Processing\", \"Natural Language Processing\" ]\n",
    "        print(\"Sub-fields in AI are:\")\n",
    "        for lists in sections:\n",
    "            print(lists)\n",
    "\n",
    "SubfieldsInAI.Subfields()"
   ]
  },
  {
   "cell_type": "code",
   "execution_count": 9,
   "id": "1e1e3760-9444-49fb-9542-6d8b778b2099",
   "metadata": {},
   "outputs": [
    {
     "name": "stdin",
     "output_type": "stream",
     "text": [
      "Enter a number : 23\n"
     ]
    },
    {
     "name": "stdout",
     "output_type": "stream",
     "text": [
      "23 is Odd number\n"
     ]
    }
   ],
   "source": [
    "#Create a function that checks whether the given number is Odd or Even\n",
    "\n",
    "class OddEven():\n",
    "    def OddEven():\n",
    "        number=int(input(\"Enter a number :\"))\n",
    "        if(number%2==0):\n",
    "            print(number, \"is Even number\")\n",
    "        else:\n",
    "            print(number, \"is Odd number\")\n",
    "\n",
    "OddEven.OddEven()\n"
   ]
  },
  {
   "cell_type": "code",
   "execution_count": 19,
   "id": "d4c4d779-4013-46b8-bca5-f40c106df45b",
   "metadata": {},
   "outputs": [
    {
     "name": "stdin",
     "output_type": "stream",
     "text": [
      "Your Gender:  Female\n",
      "Your Age: 18\n"
     ]
    },
    {
     "name": "stdout",
     "output_type": "stream",
     "text": [
      "ELIGIBLE\n"
     ]
    }
   ],
   "source": [
    "# Create a function that tells elegibility of marriage for male and female according to their age limit like 21 for male and 18 for female\n",
    "\n",
    "class EligibilityForMarriage():\n",
    "    def Eligible():\n",
    "        gender = input(\"Your Gender: \")\n",
    "        age = int(input(\"Your Age:\"))\n",
    "\n",
    "        if(gender==\"Male\"):\n",
    "            if(age>=21):\n",
    "                print(\"ELIGIBLE\")\n",
    "            else:\n",
    "                print(\"NOT ELIGIBLE\")\n",
    "        elif(gender==\"Female\"):\n",
    "            if(age>=18):\n",
    "                print(\"ELIGIBLE\")\n",
    "            else:\n",
    "                print(\"NOT ELIGIBLE\")\n",
    "            \n",
    "EligibilityForMarriage.Eligible()"
   ]
  },
  {
   "cell_type": "code",
   "execution_count": 31,
   "id": "1e6613f5-b487-4551-bf7c-735d82701b13",
   "metadata": {},
   "outputs": [
    {
     "name": "stdout",
     "output_type": "stream",
     "text": [
      "Subject 1   98\n",
      "Subject 2   87\n",
      "Subject 3   95\n",
      "Subject 4   95\n",
      "Subject 5   93\n",
      "Total :  468\n",
      "Percentage :  93.60000000000001\n"
     ]
    }
   ],
   "source": [
    "#Calculate the percentage of your 10th mark\n",
    "\n",
    "class FindPercent():\n",
    "    def percentage():\n",
    "        i = 0\n",
    "        marks = [98,87,95,95,93]\n",
    "        for count in marks:\n",
    "            i +=1\n",
    "            print(\"Subject\",i,\" \",count)\n",
    "        \n",
    "        print(\"Total : \",sum(marks))\n",
    "        print(\"Percentage : \",(sum(marks)/500)*100)\n",
    "\n",
    "\n",
    "\n",
    "FindPercent.percentage()"
   ]
  },
  {
   "cell_type": "code",
   "execution_count": 47,
   "id": "1fc3c728-2793-4888-98c2-97cdfacc2969",
   "metadata": {},
   "outputs": [
    {
     "name": "stdin",
     "output_type": "stream",
     "text": [
      "Height: 32\n",
      "Breadth: 34\n"
     ]
    },
    {
     "name": "stdout",
     "output_type": "stream",
     "text": [
      "Area of Triangle: (Height*Breadth)/2 \n",
      "Area of Triangle:  544.0\n"
     ]
    },
    {
     "name": "stdin",
     "output_type": "stream",
     "text": [
      "Height1: 2\n",
      "Height2: 4\n",
      "Breadth: 4\n"
     ]
    },
    {
     "name": "stdout",
     "output_type": "stream",
     "text": [
      "Perimeter formula: Height1+Height2+Breadth\n",
      "Perimeter formula:  10\n"
     ]
    }
   ],
   "source": [
    "#print area and perimeter of triangle using class and functions\n",
    "\n",
    "class triangle():\n",
    "    def triangle():\n",
    "        height=int(input(\"Height:\"))\n",
    "        breadth=int(input(\"Breadth:\"))\n",
    "        print(\"Area of Triangle: (Height*Breadth)/2 \")\n",
    "        print(\"Area of Triangle: \",(height*breadth)/2)\n",
    "\n",
    "        height1=int(input(\"Height1:\"))\n",
    "        height2=int(input(\"Height2:\"))\n",
    "        breadth2=int(input(\"Breadth:\"))\n",
    "        print(\"Perimeter formula: Height1+Height2+Breadth\")\n",
    "        print(\"Perimeter formula: \", height1+height2+breadth2)\n",
    "        \n",
    "\n",
    "triangle.triangle()"
   ]
  },
  {
   "cell_type": "code",
   "execution_count": null,
   "id": "a8acbc75-93a5-4f58-a44e-68af9e5d4223",
   "metadata": {},
   "outputs": [],
   "source": []
  }
 ],
 "metadata": {
  "kernelspec": {
   "display_name": "Python [conda env:base] *",
   "language": "python",
   "name": "conda-base-py"
  },
  "language_info": {
   "codemirror_mode": {
    "name": "ipython",
    "version": 3
   },
   "file_extension": ".py",
   "mimetype": "text/x-python",
   "name": "python",
   "nbconvert_exporter": "python",
   "pygments_lexer": "ipython3",
   "version": "3.12.7"
  }
 },
 "nbformat": 4,
 "nbformat_minor": 5
}
