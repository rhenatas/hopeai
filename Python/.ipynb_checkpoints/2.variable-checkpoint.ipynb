{
 "cells": [
  {
   "cell_type": "code",
   "execution_count": 1,
   "id": "76fd3cae-6fb1-46db-a6e7-a03f9d5ade60",
   "metadata": {},
   "outputs": [
    {
     "name": "stdout",
     "output_type": "stream",
     "text": [
      "Example for variable\n",
      "Sum of two variables : 30\n"
     ]
    }
   ],
   "source": [
    "print(\"Example for variable\")\n",
    "var1=10\n",
    "var2=20\n",
    "result=var1+var2\n",
    "print(\"Sum of two variables :\",result)"
   ]
  },
  {
   "cell_type": "code",
   "execution_count": null,
   "id": "8d9fe270-95d8-4d07-b869-f77d1954ba3b",
   "metadata": {},
   "outputs": [],
   "source": []
  }
 ],
 "metadata": {
  "kernelspec": {
   "display_name": "Python [conda env:base] *",
   "language": "python",
   "name": "conda-base-py"
  },
  "language_info": {
   "codemirror_mode": {
    "name": "ipython",
    "version": 3
   },
   "file_extension": ".py",
   "mimetype": "text/x-python",
   "name": "python",
   "nbconvert_exporter": "python",
   "pygments_lexer": "ipython3",
   "version": "3.12.7"
  }
 },
 "nbformat": 4,
 "nbformat_minor": 5
}
