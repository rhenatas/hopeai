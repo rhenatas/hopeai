{
 "cells": [
  {
   "cell_type": "code",
   "execution_count": 1,
   "id": "4e693371-1085-4dd4-a396-83340c394fd5",
   "metadata": {},
   "outputs": [
    {
     "name": "stdout",
     "output_type": "stream",
     "text": [
      "Example for input variables\n"
     ]
    },
    {
     "name": "stdin",
     "output_type": "stream",
     "text": [
      "Enter variable 1  10\n",
      "Enter variable 2  20\n"
     ]
    },
    {
     "name": "stdout",
     "output_type": "stream",
     "text": [
      "Result of two variables :  1020\n"
     ]
    }
   ],
   "source": [
    "print(\"Example for input variables\")\n",
    "var1=input(\"Enter variable 1 \")\n",
    "var2=input(\"Enter variable 2 \")\n",
    "result = var1 + var2\n",
    "print(\"Result of two variables : \",result)"
   ]
  },
  {
   "cell_type": "code",
   "execution_count": 3,
   "id": "e1e357f7-862e-4af9-b64a-3caccadc5bd3",
   "metadata": {},
   "outputs": [
    {
     "name": "stdout",
     "output_type": "stream",
     "text": [
      "Example for input variables\n"
     ]
    },
    {
     "name": "stdin",
     "output_type": "stream",
     "text": [
      "Enter variable 1  10\n",
      "Enter variable 2  20\n"
     ]
    },
    {
     "name": "stdout",
     "output_type": "stream",
     "text": [
      "Result of two variables :  30\n"
     ]
    }
   ],
   "source": [
    "print(\"Example for input variables\")\n",
    "var1=int(input(\"Enter variable 1 \"))\n",
    "var2=int(input(\"Enter variable 2 \"))\n",
    "result = var1 + var2\n",
    "print(\"Result of two variables : \",result)"
   ]
  },
  {
   "cell_type": "code",
   "execution_count": null,
   "id": "6f1f46a5-7d63-43d1-9978-1cd49fd3fbcb",
   "metadata": {},
   "outputs": [],
   "source": []
  }
 ],
 "metadata": {
  "kernelspec": {
   "display_name": "Python [conda env:base] *",
   "language": "python",
   "name": "conda-base-py"
  },
  "language_info": {
   "codemirror_mode": {
    "name": "ipython",
    "version": 3
   },
   "file_extension": ".py",
   "mimetype": "text/x-python",
   "name": "python",
   "nbconvert_exporter": "python",
   "pygments_lexer": "ipython3",
   "version": "3.12.7"
  }
 },
 "nbformat": 4,
 "nbformat_minor": 5
}
