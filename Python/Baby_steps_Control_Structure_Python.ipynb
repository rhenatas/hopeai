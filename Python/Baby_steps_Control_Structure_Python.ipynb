{
 "cells": [
  {
   "cell_type": "code",
   "execution_count": 1,
   "id": "ea1df163-ab81-40cd-a1f2-5d2401df366b",
   "metadata": {},
   "outputs": [
    {
     "name": "stdout",
     "output_type": "stream",
     "text": [
      "Welcome to Assignment-1\n"
     ]
    }
   ],
   "source": [
    "print(\"Welcome to Assignment-1\")"
   ]
  },
  {
   "cell_type": "code",
   "execution_count": 7,
   "id": "6b3df1e0-ad89-498b-8a55-e89ee3921f9b",
   "metadata": {},
   "outputs": [
    {
     "name": "stdin",
     "output_type": "stream",
     "text": [
      " 10\n"
     ]
    },
    {
     "name": "stdout",
     "output_type": "stream",
     "text": [
      "Num1=  10\n"
     ]
    },
    {
     "name": "stdin",
     "output_type": "stream",
     "text": [
      " 30\n"
     ]
    },
    {
     "name": "stdout",
     "output_type": "stream",
     "text": [
      "Num2=  30\n",
      "Add =  40\n"
     ]
    }
   ],
   "source": [
    "Num1=int(input())\n",
    "print(\"Num1= \",Num1)\n",
    "Num2=int(input())\n",
    "print(\"Num2= \",Num2)\n",
    "Add = Num1 + Num2\n",
    "print(\"Add = \",Add)"
   ]
  },
  {
   "cell_type": "code",
   "execution_count": 11,
   "id": "b5da0ad2-17c0-418d-96bd-2969d926d7a6",
   "metadata": {},
   "outputs": [
    {
     "name": "stdin",
     "output_type": "stream",
     "text": [
      "Enter the BMI Index:  34\n"
     ]
    },
    {
     "name": "stdout",
     "output_type": "stream",
     "text": [
      "Very Overweight\n"
     ]
    }
   ],
   "source": [
    "BMIIndex = float(input(\"Enter the BMI Index: \"))\n",
    "if(BMIIndex<18.5):\n",
    "    print(Underweight)\n",
    "elif(BMIIndex>=18.5 and BMIIndex<=24.9):\n",
    "    print(\"Normal range\")\n",
    "elif(BMIIndex>=25.0 and BMIIndex<=29.9):\n",
    "    print(\"Overweight\")\n",
    "elif(BMIIndex>=30.0 and BMIIndex<=34.9):\n",
    "    print(\"Very Overweight\")\n",
    "elif(BMIIndex>=35.0 and BMIIndex<=39.9):\n",
    "    print(\"Obese class II\")\n",
    "elif(BMIIndex>=40.0):\n",
    "    print(\"Obese class III\")"
   ]
  },
  {
   "cell_type": "code",
   "execution_count": null,
   "id": "419d7574-cb6b-4952-bc24-c521e9efff4b",
   "metadata": {},
   "outputs": [],
   "source": []
  }
 ],
 "metadata": {
  "kernelspec": {
   "display_name": "Python [conda env:base] *",
   "language": "python",
   "name": "conda-base-py"
  },
  "language_info": {
   "codemirror_mode": {
    "name": "ipython",
    "version": 3
   },
   "file_extension": ".py",
   "mimetype": "text/x-python",
   "name": "python",
   "nbconvert_exporter": "python",
   "pygments_lexer": "ipython3",
   "version": "3.12.7"
  }
 },
 "nbformat": 4,
 "nbformat_minor": 5
}
