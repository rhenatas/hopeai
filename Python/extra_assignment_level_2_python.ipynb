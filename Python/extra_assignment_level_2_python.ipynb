{
 "cells": [
  {
   "cell_type": "code",
   "execution_count": 11,
   "id": "e20fb584-061d-4658-909c-169897d6dd1c",
   "metadata": {},
   "outputs": [
    {
     "name": "stdout",
     "output_type": "stream",
     "text": [
      "0\n",
      "1\n",
      "2\n",
      "3\n",
      "4\n",
      "5\n",
      "6\n",
      "7\n",
      "8\n",
      "9\n",
      "10\n",
      "11\n",
      "12\n",
      "13\n",
      "14\n",
      "15\n",
      "16\n",
      "17\n",
      "18\n",
      "19\n"
     ]
    }
   ],
   "source": [
    "#print 0 to 20 by using range\n",
    "for num in range(0,20):\n",
    "    print(num)"
   ]
  },
  {
   "cell_type": "code",
   "execution_count": 23,
   "id": "cc97d17f-2c38-4237-a4fa-648db0984e4f",
   "metadata": {},
   "outputs": [
    {
     "name": "stdout",
     "output_type": "stream",
     "text": [
      "10 11 12 13 14 15 16 17 18 19 "
     ]
    }
   ],
   "source": [
    "#print range 10 to 20\n",
    "for num in range(10,20):\n",
    "    print(num, end=' ')"
   ]
  },
  {
   "cell_type": "code",
   "execution_count": 25,
   "id": "d43ceafc-d755-4d4c-a866-48f567b5fa84",
   "metadata": {},
   "outputs": [
    {
     "name": "stdout",
     "output_type": "stream",
     "text": [
      " Number of item in the list List2:  7\n"
     ]
    }
   ],
   "source": [
    "# print number of items in the list by using 'len'\n",
    "lists = [10,20,14,55,43,87,76]\n",
    "print(\" Number of item in the list List2: \", len(lists))"
   ]
  },
  {
   "cell_type": "code",
   "execution_count": 27,
   "id": "68c8a11f-6781-4470-b395-dc250a2e2884",
   "metadata": {},
   "outputs": [
    {
     "name": "stdout",
     "output_type": "stream",
     "text": [
      "A\n",
      "r\n",
      "t\n",
      "i\n",
      "f\n",
      "i\n",
      "c\n",
      "i\n",
      "a\n",
      "l\n",
      " \n",
      "I\n",
      "n\n",
      "t\n",
      "e\n",
      "l\n",
      "l\n",
      "i\n",
      "g\n",
      "e\n",
      "n\n",
      "c\n",
      "e\n"
     ]
    }
   ],
   "source": [
    "temp_string = \"Artificial Intelligence\"\n",
    "for character in temp_string:\n",
    "    print(character)"
   ]
  },
  {
   "cell_type": "code",
   "execution_count": 29,
   "id": "a28db4df-feb4-4e95-8fde-5219736a1875",
   "metadata": {},
   "outputs": [
    {
     "name": "stdout",
     "output_type": "stream",
     "text": [
      "- Your Name - \n",
      "- Your Age - \n",
      "- Your Profession - \n"
     ]
    }
   ],
   "source": [
    "print(\"- Your Name - \")\n",
    "print(\"- Your Age - \")\n",
    "print(\"- Your Profession - \")\n"
   ]
  },
  {
   "cell_type": "code",
   "execution_count": 31,
   "id": "fee3286b-0847-45ca-87d9-e2f58f5f6224",
   "metadata": {},
   "outputs": [
    {
     "name": "stdout",
     "output_type": "stream",
     "text": [
      "(1, 'Welcome', 2, 'Hope')\n"
     ]
    }
   ],
   "source": [
    "# Print this mixed datatype using Tuples\n",
    "\n",
    "tup = (1,'Welcome',2,'Hope')\n",
    "print(tup)"
   ]
  },
  {
   "cell_type": "code",
   "execution_count": 33,
   "id": "49844149-502f-4839-9dca-ae9c2f0f2380",
   "metadata": {},
   "outputs": [
    {
     "name": "stdout",
     "output_type": "stream",
     "text": [
      "((0, 1, 2, 3), ('python', 'HOPE'))\n"
     ]
    }
   ],
   "source": [
    "# print mixed tuples\n",
    "tup1 = (0,1,2,3)\n",
    "tup2 = ('python','HOPE')\n",
    "tup3 = (tup1, tup2)\n",
    "print(tup3)"
   ]
  },
  {
   "cell_type": "code",
   "execution_count": 43,
   "id": "d7e3cc98-845b-497d-b024-e4f509a36b2e",
   "metadata": {},
   "outputs": [
    {
     "name": "stdout",
     "output_type": "stream",
     "text": [
      "(20, 10, 16, 19, 25, 1, 276, 188)\n",
      "19 is odd\n",
      "25 is odd\n",
      "1 is odd\n"
     ]
    }
   ],
   "source": [
    "#Print odd numbers in the list\n",
    "tup = (20,10,16,19,25,1,276,188)\n",
    "print(tup)\n",
    "for temp in tup:\n",
    "    if(temp%2!=0):\n",
    "        print(temp, \"is odd\")\n",
    "    "
   ]
  },
  {
   "cell_type": "code",
   "execution_count": 45,
   "id": "114f250d-d687-4367-9bb1-cc17950b6cf8",
   "metadata": {},
   "outputs": [
    {
     "name": "stdout",
     "output_type": "stream",
     "text": [
      "(20, 10, 16, 19, 25, 1, 276, 188)\n",
      "20 is even\n",
      "10 is even\n",
      "16 is even\n",
      "276 is even\n",
      "188 is even\n"
     ]
    }
   ],
   "source": [
    "#Print even numbers in the list\n",
    "tup = (20,10,16,19,25,1,276,188)\n",
    "print(tup)\n",
    "for temp in tup:\n",
    "    if(temp%2==0):\n",
    "        print(temp, \"is even\")\n",
    "    "
   ]
  },
  {
   "cell_type": "code",
   "execution_count": null,
   "id": "2fcf213a-2e48-481a-8fa2-2248d61cb19a",
   "metadata": {},
   "outputs": [],
   "source": []
  }
 ],
 "metadata": {
  "kernelspec": {
   "display_name": "Python [conda env:base] *",
   "language": "python",
   "name": "conda-base-py"
  },
  "language_info": {
   "codemirror_mode": {
    "name": "ipython",
    "version": 3
   },
   "file_extension": ".py",
   "mimetype": "text/x-python",
   "name": "python",
   "nbconvert_exporter": "python",
   "pygments_lexer": "ipython3",
   "version": "3.12.7"
  }
 },
 "nbformat": 4,
 "nbformat_minor": 5
}
